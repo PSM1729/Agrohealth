{
 "cells": [
  {
   "cell_type": "code",
   "execution_count": 1,
   "metadata": {},
   "outputs": [],
   "source": [
    "import numpy as np\n",
    "import pandas as pd\n",
    "import seaborn as sns\n",
    "import matplotlib.pyplot as plt\n",
    "import warnings\n",
    "warnings.filterwarnings('ignore')\n",
    "import pickle"
   ]
  },
  {
   "cell_type": "code",
   "execution_count": 2,
   "metadata": {},
   "outputs": [
    {
     "name": "stdout",
     "output_type": "stream",
     "text": [
      "0.9977272727272727\n"
     ]
    }
   ],
   "source": [
    "df = pd.read_csv('./Crop_recommendation.csv')\n",
    "\n",
    "X = df.iloc[:, :-1].values\n",
    "y = df.iloc[:, -1].values\n",
    "\n",
    "from sklearn.model_selection import train_test_split\n",
    "X_train, X_test, y_train, y_test = train_test_split(X, y, test_size = 0.2, random_state = 0)\n",
    "\n",
    "from sklearn.preprocessing import StandardScaler\n",
    "sc = StandardScaler()\n",
    "X_train = sc.fit_transform(X_train)\n",
    "X_test = sc.transform(X_test)\n",
    "\n",
    "from sklearn.ensemble import RandomForestClassifier\n",
    "classifier = RandomForestClassifier(n_estimators= 100, criterion = 'gini' , random_state= 42)\n",
    "classifier.fit(X_train, y_train)\n",
    "\n",
    "\n",
    "pickle.dump(classifier, open('crop.pkl','wb'))\n",
    "\n",
    "loaded_model = pickle.load(open('crop.pkl','rb'))\n",
    "result  = loaded_model.score(X_test, y_test)\n",
    "print(result)"
   ]
  },
  {
   "cell_type": "code",
   "execution_count": 3,
   "metadata": {},
   "outputs": [
    {
     "name": "stdout",
     "output_type": "stream",
     "text": [
      "0.85\n"
     ]
    }
   ],
   "source": [
    "df = pd.read_csv('Fertilizer Prediction.csv')\n",
    "\n",
    "X = df.iloc[:, :-1]\n",
    "y = df.iloc[:, -1]\n",
    "\n",
    "X= X.drop(['Potassium'], axis = 1)\n",
    "\n",
    "y = y.replace({'20-20':'20-20 Fertilizer (Ammonium Phosphate Sulphate)', '28-28':'Gromor 28-28 Fertilizer','14-35-14 ':'GROMOR 14-35-14 Fertilizer',\n",
    "               '17-17-17':'NPK 17-17-17 Fertilizer', '10-26-26':'Water Soluble NPK 10:26:26 Fertilizer'})\n",
    "\n",
    "data = pd.get_dummies(X)\n",
    "X = data\n",
    "\n",
    "\n",
    "\n",
    "from sklearn.model_selection import train_test_split\n",
    "X_train, X_test, y_train, y_test = train_test_split(X, y, test_size = 0.2, random_state = 0)\n",
    "\n",
    "from sklearn.ensemble import RandomForestClassifier\n",
    "classifier = RandomForestClassifier(n_estimators= 100, criterion = 'gini' , random_state= 42)\n",
    "classifier.fit(X_train, y_train)\n",
    "\n",
    "pickle.dump(classifier, open('fertilizer.pkl','wb'))\n",
    "\n",
    "loaded_model = pickle.load(open('fertilizer.pkl','rb'))\n",
    "result  = loaded_model.score(X_test, y_test)\n",
    "print(result)"
   ]
  },
  {
   "cell_type": "code",
   "execution_count": 4,
   "metadata": {},
   "outputs": [
    {
     "name": "stdout",
     "output_type": "stream",
     "text": [
      "0.9651126926503042\n"
     ]
    }
   ],
   "source": [
    "df = pd.read_csv('Life Expectancy Data.csv')\n",
    "df.rename(columns = {\" BMI \" :\"BMI\",\n",
    "                                  \"Life expectancy \": \"Life_expectancy\",\n",
    "                                  \"Adult Mortality\":\"Adult_mortality\",\n",
    "                                  \"infant deaths\":\"Infant_deaths\",\n",
    "                                  \"percentage expenditure\":\"Percentage_expenditure\",\n",
    "                                  \"Hepatitis B\":\"HepatitisB\",\n",
    "                                  \"Measles \":\"Measles\",\n",
    "                                  \"under-five deaths \": \"Under_five_deaths\",\n",
    "                                  \"Total expenditure\":\"Total_expenditure\",\n",
    "                                  \"Diphtheria \": \"Diphtheria\",\n",
    "                                  \" thinness  1-19 years\":\"Thinness_1-19_years\",\n",
    "                                  \" thinness 5-9 years\":\"Thinness_5-9_years\",\n",
    "                                  \" HIV/AIDS\":\"HIV/AIDS\",\n",
    "                                  \"Income composition of resources\":\"Income_composition_of_resources\"}, inplace = True)\n",
    "\n",
    "y = df[\"Life_expectancy\"]\n",
    "df = df.drop([\"Life_expectancy\"], axis=1)\n",
    "\n",
    "categorical = df.select_dtypes(include= \"O\")\n",
    "numerical = df.select_dtypes(exclude= \"O\")\n",
    "\n",
    "\n",
    "def outlier_count(col, data=df):\n",
    "    print ( \"\\n\" + 15 * '-' + col + 15 * '-' + \"\\n\" )\n",
    "\n",
    "    q75, q25 = np.percentile ( data[col], [75, 25] )\n",
    "    iqr = q75 - q25\n",
    "    min_val = q25 - (iqr * 1.5)\n",
    "    max_val = q75 + (iqr * 1.5)\n",
    "    outlier_count = len ( np.where ( (data[col] > max_val) | (data[col] < min_val) )[0] )\n",
    "    outlier_percent = round ( outlier_count / len ( data[col] ) * 100, 2 )\n",
    "    print ( 'Number of outliers: {}'.format ( outlier_count ) )\n",
    "    print ( 'Percent of data that is outlier: {}%'.format ( outlier_percent ) )\n",
    "\n",
    "def checkna(df):\n",
    "    missing_values = df.isna().sum().reset_index()\n",
    "    missing_values.columns = [\"Features\", \"Missing_Values\"]\n",
    "    missing_values[\"Missing_Percent\"]= round(missing_values.Missing_Values/len(df)*100,2)\n",
    "    return missing_values[missing_values.Missing_Values > 0 ]\n",
    "\n",
    "\n",
    "def imputer(df, feature, method):\n",
    "    if method == \"mode\":\n",
    "        df[feature] = df[feature].fillna ( df[feature].mode ()[0] )\n",
    "\n",
    "    elif method == \"median\":\n",
    "        df[feature] = df[feature].fillna ( df[feature].median () )\n",
    "\n",
    "    else:\n",
    "        df[feature] = df[feature].fillna ( df[feature].mean () )\n",
    "\n",
    "features_missing= df.columns[df.isna().any()]\n",
    "for feature in features_missing:\n",
    "    imputer(df, feature= feature, method= \"mean\")\n",
    "\n",
    "y.fillna(y.median(), inplace=True)\n",
    "\n",
    "df['Status'] = df['Status'].replace({'Developed': 1 , 'Developing':0});\n",
    "\n",
    "X = df.drop(['Country', 'Year', 'Infant_deaths'],1)\n",
    "\n",
    "\n",
    "\n",
    "\n",
    "from sklearn.model_selection import train_test_split\n",
    "X_train, X_test, y_train, y_test = train_test_split(X, y, test_size = 0.25, random_state = 42)\n",
    "\n",
    "from sklearn.ensemble import RandomForestRegressor\n",
    "reg = RandomForestRegressor(n_estimators = 100, random_state = 0)\n",
    "reg.fit(X_train, y_train)\n",
    "\n",
    "pickle.dump(reg, open('life.pkl','wb'))\n",
    "\n",
    "loaded_model = pickle.load(open('life.pkl','rb'))\n",
    "result  = loaded_model.score(X_test, y_test)\n",
    "print(result)"
   ]
  },
  {
   "cell_type": "code",
   "execution_count": 5,
   "metadata": {},
   "outputs": [
    {
     "name": "stdout",
     "output_type": "stream",
     "text": [
      "0.9461839530332681\n"
     ]
    }
   ],
   "source": [
    "df = pd.read_csv('healthcare-dataset-stroke-data.csv')\n",
    "\n",
    "\n",
    "# As 'id' Column is of no use. So, we drop that column\n",
    "df = df.drop(['id'], 1)\n",
    "\n",
    "df['bmi'] = df['bmi'].fillna(df['bmi'].median())\n",
    "\n",
    "df_delete = df[df['gender'] == 'Other'].index\n",
    "df = df.drop(df_delete)\n",
    "\n",
    "\n",
    "X1 = df.iloc[:, :-1]\n",
    "y = df.iloc[:, -1]\n",
    "\n",
    "data = pd.get_dummies(X1);\n",
    "\n",
    "X= data\n",
    "\n",
    "\n",
    "from sklearn.model_selection import train_test_split\n",
    "X_train, X_test, y_train, y_test = train_test_split(X, y, test_size=0.2, random_state=0)\n",
    "\n",
    "\n",
    "from sklearn.ensemble import RandomForestClassifier\n",
    "classifier = RandomForestClassifier(n_estimators= 100, criterion = 'gini' , random_state = 0)\n",
    "classifier.fit(X_train, y_train)\n",
    "\n",
    "pickle.dump(classifier, open('stroke.pkl','wb'))\n",
    "\n",
    "loaded_model = pickle.load(open('stroke.pkl','rb'))\n",
    "result  = loaded_model.score(X_test, y_test)\n",
    "print(result)"
   ]
  }
 ],
 "metadata": {
  "interpreter": {
   "hash": "1ad83a4b5a311d81bb7845bba0347eb60d49cf7d88ca1a7bf46f13540b9d5ffb"
  },
  "kernelspec": {
   "display_name": "Python 3.7.8 64-bit",
   "language": "python",
   "name": "python3"
  },
  "language_info": {
   "codemirror_mode": {
    "name": "ipython",
    "version": 3
   },
   "file_extension": ".py",
   "mimetype": "text/x-python",
   "name": "python",
   "nbconvert_exporter": "python",
   "pygments_lexer": "ipython3",
   "version": "3.7.8"
  },
  "orig_nbformat": 4
 },
 "nbformat": 4,
 "nbformat_minor": 2
}
